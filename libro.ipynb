{
  "nbformat": 4,
  "nbformat_minor": 0,
  "metadata": {
    "colab": {
      "provenance": [],
      "authorship_tag": "ABX9TyN5iO7s20DS/FtYKi4Ql85q",
      "include_colab_link": true
    },
    "kernelspec": {
      "name": "python3",
      "display_name": "Python 3"
    },
    "language_info": {
      "name": "python"
    }
  },
  "cells": [
    {
      "cell_type": "markdown",
      "metadata": {
        "id": "view-in-github",
        "colab_type": "text"
      },
      "source": [
        "<a href=\"https://colab.research.google.com/github/anfisbena/EstadisticaPracticaParaCienciaDeDatos/blob/main/libro.ipynb\" target=\"_parent\"><img src=\"https://colab.research.google.com/assets/colab-badge.svg\" alt=\"Open In Colab\"/></a>"
      ]
    },
    {
      "cell_type": "code",
      "execution_count": 1,
      "metadata": {
        "id": "oeqJmaR56NTZ"
      },
      "outputs": [],
      "source": []
    },
    {
      "cell_type": "markdown",
      "source": [
        "#Analisis exploratorio de datos\n"
      ],
      "metadata": {
        "id": "1YMfKDz86hAV"
      }
    },
    {
      "cell_type": "markdown",
      "source": [
        "## Elementos de datos estructurados\n",
        "\n",
        "## Numericos\n",
        "<table>\n",
        "  <tr>\n",
        "    <th>Tipo Dato</th>\n",
        "    <th>Descripcion</th>\n",
        "    <th>Sinonimos</th>\n",
        "  </tr>\n",
        "  <tr>\n",
        "    <td>Continuos</td>\n",
        "    <td>numeros que pueden tomar cualquier valor en el intervalo</td>\n",
        "    <td>intervalo, flotante, numerico</td>\n",
        "  </tr>\n",
        "  <tr>\n",
        "    <td>Discretos</td>\n",
        "    <td>Numeros que solo pueden adoptar valores enteros y definidos</td>\n",
        "    <td>entero, contable</td>\n",
        "  </tr>\n",
        "</table>\n",
        "\n",
        "## Categoricos\n",
        "<table>\n",
        "  <tr>\n",
        "    <th>Tipo Dato</th>\n",
        "    <th>Descripcion</th>\n",
        "    <th>Sinonimos</th>\n",
        "  </tr>\n",
        "  <tr>\n",
        "    <td>Ordinales</td>\n",
        "    <td>Datos con un orden explicito </td>\n",
        "    <td>factor ordenado</td>\n",
        "  </tr>\n",
        "    <tr>\n",
        "    <td>Binarios</td>\n",
        "    <td>si/no, True/false, 1/0</td>\n",
        "    <td>dicotomico, logico, indicador, booleano</td>\n",
        "  </tr>\n",
        "</table>\n",
        "\n",
        "Los datos categoricos pueden ser tratados por ej:\n",
        "+ R= ordered.factor\n",
        "+ Py= (usando libreria psykit.learn) sklearn.preprocessing.OrginalEncoder\n",
        "\n",
        "# Datos rectangulares\n",
        "\n",
        "Se identifican asi los datos en dos dimensiones como las tablas, estos tienen los siguientes terminos clave\n",
        "\n",
        "<table>\n",
        "  <tr>\n",
        "    <td>Termino</td>\n",
        "    <td>Descripcion</td>\n",
        "    <td>sinonimo</td\n",
        "  </tr>\n",
        "  <tr>\n",
        "    <td>Marco de datos</td>\n",
        "    <td>Tabla</td>\n",
        "  </tr>\n",
        "  <tr>\n",
        "    <td>Caracteristica</td>\n",
        "    <td>Columna de la tabla</td>\n",
        "    <td>atributo, entrada, predictor, variable</td>\n",
        "  </tr>\n",
        "  <tr>\n",
        "    <td>registro</td>\n",
        "    <td>fila de la tabla</td>\n",
        "    <td>caso, instancia, ejemplo, observacion, patrón, muestra</td>\n",
        "  </tr>\n",
        "  <tr>\n",
        "    <td>Resultado</td>\n",
        "    <td>valor de salida del modelo</td>\n",
        "    <td>variable dependiente, respuesta, objetivo, salida</td>\n",
        "  </tr>\n",
        "</table>"
      ],
      "metadata": {
        "id": "yiQ7rVN-LkcI"
      }
    },
    {
      "cell_type": "code",
      "source": [
        "#Ejemplo de una tabla, importada con pandas\n",
        "import pandas as pd\n",
        "df=pd.read_csv('tasa_homicidio_estado.csv')\n",
        "df"
      ],
      "metadata": {
        "id": "Um-s3zaH-Eiv",
        "colab": {
          "base_uri": "https://localhost:8080/",
          "height": 300
        },
        "outputId": "984f5c82-7241-4828-8f47-9737dd96c9c4"
      },
      "execution_count": 2,
      "outputs": [
        {
          "output_type": "execute_result",
          "data": {
            "text/plain": [
              "        Estado  Poblacion  Tasa de homicidios Abreviatura\n",
              "0      Alabama    4779736                 5.7          AL\n",
              "1       Alaska     710231                 5.6          AK\n",
              "2      Arizona    6392017                 4.7          AZ\n",
              "3     Arkansas    2915918                 5.6          AR\n",
              "4   california   37253956                 4.4          CA\n",
              "5     Colorado    5029196                 2.8          CO\n",
              "6  Connecticut    3574097                 2.4          CT\n",
              "7     Delaware     897934                 5.8          DE"
            ],
            "text/html": [
              "\n",
              "  <div id=\"df-ca62eec4-9f1a-4cc8-964c-c00b74357ca7\" class=\"colab-df-container\">\n",
              "    <div>\n",
              "<style scoped>\n",
              "    .dataframe tbody tr th:only-of-type {\n",
              "        vertical-align: middle;\n",
              "    }\n",
              "\n",
              "    .dataframe tbody tr th {\n",
              "        vertical-align: top;\n",
              "    }\n",
              "\n",
              "    .dataframe thead th {\n",
              "        text-align: right;\n",
              "    }\n",
              "</style>\n",
              "<table border=\"1\" class=\"dataframe\">\n",
              "  <thead>\n",
              "    <tr style=\"text-align: right;\">\n",
              "      <th></th>\n",
              "      <th>Estado</th>\n",
              "      <th>Poblacion</th>\n",
              "      <th>Tasa de homicidios</th>\n",
              "      <th>Abreviatura</th>\n",
              "    </tr>\n",
              "  </thead>\n",
              "  <tbody>\n",
              "    <tr>\n",
              "      <th>0</th>\n",
              "      <td>Alabama</td>\n",
              "      <td>4779736</td>\n",
              "      <td>5.7</td>\n",
              "      <td>AL</td>\n",
              "    </tr>\n",
              "    <tr>\n",
              "      <th>1</th>\n",
              "      <td>Alaska</td>\n",
              "      <td>710231</td>\n",
              "      <td>5.6</td>\n",
              "      <td>AK</td>\n",
              "    </tr>\n",
              "    <tr>\n",
              "      <th>2</th>\n",
              "      <td>Arizona</td>\n",
              "      <td>6392017</td>\n",
              "      <td>4.7</td>\n",
              "      <td>AZ</td>\n",
              "    </tr>\n",
              "    <tr>\n",
              "      <th>3</th>\n",
              "      <td>Arkansas</td>\n",
              "      <td>2915918</td>\n",
              "      <td>5.6</td>\n",
              "      <td>AR</td>\n",
              "    </tr>\n",
              "    <tr>\n",
              "      <th>4</th>\n",
              "      <td>california</td>\n",
              "      <td>37253956</td>\n",
              "      <td>4.4</td>\n",
              "      <td>CA</td>\n",
              "    </tr>\n",
              "    <tr>\n",
              "      <th>5</th>\n",
              "      <td>Colorado</td>\n",
              "      <td>5029196</td>\n",
              "      <td>2.8</td>\n",
              "      <td>CO</td>\n",
              "    </tr>\n",
              "    <tr>\n",
              "      <th>6</th>\n",
              "      <td>Connecticut</td>\n",
              "      <td>3574097</td>\n",
              "      <td>2.4</td>\n",
              "      <td>CT</td>\n",
              "    </tr>\n",
              "    <tr>\n",
              "      <th>7</th>\n",
              "      <td>Delaware</td>\n",
              "      <td>897934</td>\n",
              "      <td>5.8</td>\n",
              "      <td>DE</td>\n",
              "    </tr>\n",
              "  </tbody>\n",
              "</table>\n",
              "</div>\n",
              "    <div class=\"colab-df-buttons\">\n",
              "\n",
              "  <div class=\"colab-df-container\">\n",
              "    <button class=\"colab-df-convert\" onclick=\"convertToInteractive('df-ca62eec4-9f1a-4cc8-964c-c00b74357ca7')\"\n",
              "            title=\"Convert this dataframe to an interactive table.\"\n",
              "            style=\"display:none;\">\n",
              "\n",
              "  <svg xmlns=\"http://www.w3.org/2000/svg\" height=\"24px\" viewBox=\"0 -960 960 960\">\n",
              "    <path d=\"M120-120v-720h720v720H120Zm60-500h600v-160H180v160Zm220 220h160v-160H400v160Zm0 220h160v-160H400v160ZM180-400h160v-160H180v160Zm440 0h160v-160H620v160ZM180-180h160v-160H180v160Zm440 0h160v-160H620v160Z\"/>\n",
              "  </svg>\n",
              "    </button>\n",
              "\n",
              "  <style>\n",
              "    .colab-df-container {\n",
              "      display:flex;\n",
              "      gap: 12px;\n",
              "    }\n",
              "\n",
              "    .colab-df-convert {\n",
              "      background-color: #E8F0FE;\n",
              "      border: none;\n",
              "      border-radius: 50%;\n",
              "      cursor: pointer;\n",
              "      display: none;\n",
              "      fill: #1967D2;\n",
              "      height: 32px;\n",
              "      padding: 0 0 0 0;\n",
              "      width: 32px;\n",
              "    }\n",
              "\n",
              "    .colab-df-convert:hover {\n",
              "      background-color: #E2EBFA;\n",
              "      box-shadow: 0px 1px 2px rgba(60, 64, 67, 0.3), 0px 1px 3px 1px rgba(60, 64, 67, 0.15);\n",
              "      fill: #174EA6;\n",
              "    }\n",
              "\n",
              "    .colab-df-buttons div {\n",
              "      margin-bottom: 4px;\n",
              "    }\n",
              "\n",
              "    [theme=dark] .colab-df-convert {\n",
              "      background-color: #3B4455;\n",
              "      fill: #D2E3FC;\n",
              "    }\n",
              "\n",
              "    [theme=dark] .colab-df-convert:hover {\n",
              "      background-color: #434B5C;\n",
              "      box-shadow: 0px 1px 3px 1px rgba(0, 0, 0, 0.15);\n",
              "      filter: drop-shadow(0px 1px 2px rgba(0, 0, 0, 0.3));\n",
              "      fill: #FFFFFF;\n",
              "    }\n",
              "  </style>\n",
              "\n",
              "    <script>\n",
              "      const buttonEl =\n",
              "        document.querySelector('#df-ca62eec4-9f1a-4cc8-964c-c00b74357ca7 button.colab-df-convert');\n",
              "      buttonEl.style.display =\n",
              "        google.colab.kernel.accessAllowed ? 'block' : 'none';\n",
              "\n",
              "      async function convertToInteractive(key) {\n",
              "        const element = document.querySelector('#df-ca62eec4-9f1a-4cc8-964c-c00b74357ca7');\n",
              "        const dataTable =\n",
              "          await google.colab.kernel.invokeFunction('convertToInteractive',\n",
              "                                                    [key], {});\n",
              "        if (!dataTable) return;\n",
              "\n",
              "        const docLinkHtml = 'Like what you see? Visit the ' +\n",
              "          '<a target=\"_blank\" href=https://colab.research.google.com/notebooks/data_table.ipynb>data table notebook</a>'\n",
              "          + ' to learn more about interactive tables.';\n",
              "        element.innerHTML = '';\n",
              "        dataTable['output_type'] = 'display_data';\n",
              "        await google.colab.output.renderOutput(dataTable, element);\n",
              "        const docLink = document.createElement('div');\n",
              "        docLink.innerHTML = docLinkHtml;\n",
              "        element.appendChild(docLink);\n",
              "      }\n",
              "    </script>\n",
              "  </div>\n",
              "\n",
              "\n",
              "<div id=\"df-172315dd-95fd-4c16-9a1c-f081b927a1ce\">\n",
              "  <button class=\"colab-df-quickchart\" onclick=\"quickchart('df-172315dd-95fd-4c16-9a1c-f081b927a1ce')\"\n",
              "            title=\"Suggest charts\"\n",
              "            style=\"display:none;\">\n",
              "\n",
              "<svg xmlns=\"http://www.w3.org/2000/svg\" height=\"24px\"viewBox=\"0 0 24 24\"\n",
              "     width=\"24px\">\n",
              "    <g>\n",
              "        <path d=\"M19 3H5c-1.1 0-2 .9-2 2v14c0 1.1.9 2 2 2h14c1.1 0 2-.9 2-2V5c0-1.1-.9-2-2-2zM9 17H7v-7h2v7zm4 0h-2V7h2v10zm4 0h-2v-4h2v4z\"/>\n",
              "    </g>\n",
              "</svg>\n",
              "  </button>\n",
              "\n",
              "<style>\n",
              "  .colab-df-quickchart {\n",
              "      --bg-color: #E8F0FE;\n",
              "      --fill-color: #1967D2;\n",
              "      --hover-bg-color: #E2EBFA;\n",
              "      --hover-fill-color: #174EA6;\n",
              "      --disabled-fill-color: #AAA;\n",
              "      --disabled-bg-color: #DDD;\n",
              "  }\n",
              "\n",
              "  [theme=dark] .colab-df-quickchart {\n",
              "      --bg-color: #3B4455;\n",
              "      --fill-color: #D2E3FC;\n",
              "      --hover-bg-color: #434B5C;\n",
              "      --hover-fill-color: #FFFFFF;\n",
              "      --disabled-bg-color: #3B4455;\n",
              "      --disabled-fill-color: #666;\n",
              "  }\n",
              "\n",
              "  .colab-df-quickchart {\n",
              "    background-color: var(--bg-color);\n",
              "    border: none;\n",
              "    border-radius: 50%;\n",
              "    cursor: pointer;\n",
              "    display: none;\n",
              "    fill: var(--fill-color);\n",
              "    height: 32px;\n",
              "    padding: 0;\n",
              "    width: 32px;\n",
              "  }\n",
              "\n",
              "  .colab-df-quickchart:hover {\n",
              "    background-color: var(--hover-bg-color);\n",
              "    box-shadow: 0 1px 2px rgba(60, 64, 67, 0.3), 0 1px 3px 1px rgba(60, 64, 67, 0.15);\n",
              "    fill: var(--button-hover-fill-color);\n",
              "  }\n",
              "\n",
              "  .colab-df-quickchart-complete:disabled,\n",
              "  .colab-df-quickchart-complete:disabled:hover {\n",
              "    background-color: var(--disabled-bg-color);\n",
              "    fill: var(--disabled-fill-color);\n",
              "    box-shadow: none;\n",
              "  }\n",
              "\n",
              "  .colab-df-spinner {\n",
              "    border: 2px solid var(--fill-color);\n",
              "    border-color: transparent;\n",
              "    border-bottom-color: var(--fill-color);\n",
              "    animation:\n",
              "      spin 1s steps(1) infinite;\n",
              "  }\n",
              "\n",
              "  @keyframes spin {\n",
              "    0% {\n",
              "      border-color: transparent;\n",
              "      border-bottom-color: var(--fill-color);\n",
              "      border-left-color: var(--fill-color);\n",
              "    }\n",
              "    20% {\n",
              "      border-color: transparent;\n",
              "      border-left-color: var(--fill-color);\n",
              "      border-top-color: var(--fill-color);\n",
              "    }\n",
              "    30% {\n",
              "      border-color: transparent;\n",
              "      border-left-color: var(--fill-color);\n",
              "      border-top-color: var(--fill-color);\n",
              "      border-right-color: var(--fill-color);\n",
              "    }\n",
              "    40% {\n",
              "      border-color: transparent;\n",
              "      border-right-color: var(--fill-color);\n",
              "      border-top-color: var(--fill-color);\n",
              "    }\n",
              "    60% {\n",
              "      border-color: transparent;\n",
              "      border-right-color: var(--fill-color);\n",
              "    }\n",
              "    80% {\n",
              "      border-color: transparent;\n",
              "      border-right-color: var(--fill-color);\n",
              "      border-bottom-color: var(--fill-color);\n",
              "    }\n",
              "    90% {\n",
              "      border-color: transparent;\n",
              "      border-bottom-color: var(--fill-color);\n",
              "    }\n",
              "  }\n",
              "</style>\n",
              "\n",
              "  <script>\n",
              "    async function quickchart(key) {\n",
              "      const quickchartButtonEl =\n",
              "        document.querySelector('#' + key + ' button');\n",
              "      quickchartButtonEl.disabled = true;  // To prevent multiple clicks.\n",
              "      quickchartButtonEl.classList.add('colab-df-spinner');\n",
              "      try {\n",
              "        const charts = await google.colab.kernel.invokeFunction(\n",
              "            'suggestCharts', [key], {});\n",
              "      } catch (error) {\n",
              "        console.error('Error during call to suggestCharts:', error);\n",
              "      }\n",
              "      quickchartButtonEl.classList.remove('colab-df-spinner');\n",
              "      quickchartButtonEl.classList.add('colab-df-quickchart-complete');\n",
              "    }\n",
              "    (() => {\n",
              "      let quickchartButtonEl =\n",
              "        document.querySelector('#df-172315dd-95fd-4c16-9a1c-f081b927a1ce button');\n",
              "      quickchartButtonEl.style.display =\n",
              "        google.colab.kernel.accessAllowed ? 'block' : 'none';\n",
              "    })();\n",
              "  </script>\n",
              "</div>\n",
              "\n",
              "  <div id=\"id_06cf972c-e92a-4c5b-9f3e-02e3b417cb4b\">\n",
              "    <style>\n",
              "      .colab-df-generate {\n",
              "        background-color: #E8F0FE;\n",
              "        border: none;\n",
              "        border-radius: 50%;\n",
              "        cursor: pointer;\n",
              "        display: none;\n",
              "        fill: #1967D2;\n",
              "        height: 32px;\n",
              "        padding: 0 0 0 0;\n",
              "        width: 32px;\n",
              "      }\n",
              "\n",
              "      .colab-df-generate:hover {\n",
              "        background-color: #E2EBFA;\n",
              "        box-shadow: 0px 1px 2px rgba(60, 64, 67, 0.3), 0px 1px 3px 1px rgba(60, 64, 67, 0.15);\n",
              "        fill: #174EA6;\n",
              "      }\n",
              "\n",
              "      [theme=dark] .colab-df-generate {\n",
              "        background-color: #3B4455;\n",
              "        fill: #D2E3FC;\n",
              "      }\n",
              "\n",
              "      [theme=dark] .colab-df-generate:hover {\n",
              "        background-color: #434B5C;\n",
              "        box-shadow: 0px 1px 3px 1px rgba(0, 0, 0, 0.15);\n",
              "        filter: drop-shadow(0px 1px 2px rgba(0, 0, 0, 0.3));\n",
              "        fill: #FFFFFF;\n",
              "      }\n",
              "    </style>\n",
              "    <button class=\"colab-df-generate\" onclick=\"generateWithVariable('df')\"\n",
              "            title=\"Generate code using this dataframe.\"\n",
              "            style=\"display:none;\">\n",
              "\n",
              "  <svg xmlns=\"http://www.w3.org/2000/svg\" height=\"24px\"viewBox=\"0 0 24 24\"\n",
              "       width=\"24px\">\n",
              "    <path d=\"M7,19H8.4L18.45,9,17,7.55,7,17.6ZM5,21V16.75L18.45,3.32a2,2,0,0,1,2.83,0l1.4,1.43a1.91,1.91,0,0,1,.58,1.4,1.91,1.91,0,0,1-.58,1.4L9.25,21ZM18.45,9,17,7.55Zm-12,3A5.31,5.31,0,0,0,4.9,8.1,5.31,5.31,0,0,0,1,6.5,5.31,5.31,0,0,0,4.9,4.9,5.31,5.31,0,0,0,6.5,1,5.31,5.31,0,0,0,8.1,4.9,5.31,5.31,0,0,0,12,6.5,5.46,5.46,0,0,0,6.5,12Z\"/>\n",
              "  </svg>\n",
              "    </button>\n",
              "    <script>\n",
              "      (() => {\n",
              "      const buttonEl =\n",
              "        document.querySelector('#id_06cf972c-e92a-4c5b-9f3e-02e3b417cb4b button.colab-df-generate');\n",
              "      buttonEl.style.display =\n",
              "        google.colab.kernel.accessAllowed ? 'block' : 'none';\n",
              "\n",
              "      buttonEl.onclick = () => {\n",
              "        google.colab.notebook.generateWithVariable('df');\n",
              "      }\n",
              "      })();\n",
              "    </script>\n",
              "  </div>\n",
              "\n",
              "    </div>\n",
              "  </div>\n"
            ]
          },
          "metadata": {},
          "execution_count": 2
        }
      ]
    },
    {
      "cell_type": "markdown",
      "source": [
        "## Estimacion de localizacion\n",
        "Es importante explorar los valores tipicos de los datos, para eso se utilizan las medidas de tendencia central\n",
        "\n",
        "<h2>Medidas de tendencia central</h2>\n",
        "<table>\n",
        "<tr>\n",
        "  <th>Medida</th>\n",
        "  <th>Descripcion</th>\n",
        "  <th>formula</th>\n",
        "  <th>Sinonimos</th>\n",
        "</tr>\n",
        "<tr>\n",
        "  <td>Media</td>\n",
        "  <td>Suma de todos los valores dividido por el numero de valores</td>\n",
        "  <td>$$ \\bar{x} = \\frac{\\sum_{i=1}^{n} x_i}{n} $$</td>\n",
        "  <td>promedio</td>\n",
        "</tr>\n",
        "<tr>\n",
        "  <td>media ponderada</td>\n",
        "  <td>Suma de todos los valores * por cada ponderacion y dividida por la suma de las ponderaciones</td>\n",
        "  <td>$$ \\bar{x} = \\frac{\\sum_{i=1}^{n} w_i \\cdot x_i}{\\sum_{i=1}^{n} w_i} $$</td>\n",
        "  <td>promedio ponderado</td>\n",
        "</tr>\n",
        "<tr>\n",
        "  <td>media truncada</td>\n",
        "  <td>es la media menos n% de valores en los extremos</td>\n",
        "  <td>$$ \\bar{x}_{\\text{tr}} = \\frac{\\sum_{i=p+1}^{n-p} x_i}{n - 2p}\n",
        " $$</td>\n",
        " <td>media recortada</td>\n",
        "</tr>\n",
        "<tr>\n",
        "  <td>mediana</td>\n",
        "  <td>es el valor intermedio o promedio de valores intermedios (si es par) del conjunto ordenado de datos</td>\n",
        "  <td></td>\n",
        "  <td>percentil 50</td>\n",
        "</tr>\n",
        "<tr>\n",
        "  <td>mediana ponderada</td>\n",
        "  <td>es la mitad de la suma de las ponderaciones de los datos ordenados</td>\n",
        "  <td></td>\n",
        "</tr>\n",
        "<tr>\n",
        "  <td>Percentil</td>\n",
        "  <td>valor P por ciento de datos que se encuentran por debajo del mismo</td>\n",
        "  <td></td>\n",
        "  <td>cuantil</td>\n",
        "</tr>\n",
        "<tr>\n",
        "  <td>Robusto</td>\n",
        "  <td>algo insensible a valores extremos</td>\n",
        "  <td></td>\n",
        "  <td>resistente</td>\n",
        "</tr>\n",
        "<tr>\n",
        "  <td>Atipico</td>\n",
        "  <td>Valor de un dato muy distinto a la mayoria de los valores</td>\n",
        "  <td></td>\n",
        "  <td>valor extremo</td>\n",
        "</tr>\n",
        "<tr>\n",
        "  <td></td>\n",
        "  <td></td>\n",
        "  <td></td>\n",
        "</tr>\n",
        "</table>"
      ],
      "metadata": {
        "id": "kTO6EpevL2A1"
      }
    },
    {
      "cell_type": "code",
      "source": [
        "#calculo de medidas de tendencia\n",
        "from scipy.stats import trim_mean\n",
        "\n",
        "media=df['Poblacion'].mean()\n",
        "media_truncada=trim_mean(df['Poblacion'],0.1)\n",
        "mediana=df['Poblacion'].median()\n",
        "print(f\"media={media}\")\n",
        "print(f\"media truncada eliminando el 10% de valores en extremos={media_truncada}\")\n",
        "print(f\"mediana={mediana}\")"
      ],
      "metadata": {
        "id": "onWSoIRKMIlv",
        "outputId": "189fb21b-ebf4-4816-e5c5-2b484f234c40",
        "colab": {
          "base_uri": "https://localhost:8080/"
        }
      },
      "execution_count": 3,
      "outputs": [
        {
          "output_type": "stream",
          "name": "stdout",
          "text": [
            "media=7694135.625\n",
            "media truncada eliminando el 10% de valores en extremos=7694135.625\n",
            "mediana=4176916.5\n"
          ]
        }
      ]
    },
    {
      "cell_type": "markdown",
      "source": [
        "## Estimacion de variabilidad\n",
        "Son las medidas de dispersion y muestran que tanto varian los datos unos con los otros\n",
        "\n",
        "<h2>Medidas de Dispersion</h2>\n",
        "<table>\n",
        "<tr>\n",
        "  <th>Medida</th>\n",
        "  <th>Descripcion</th>\n",
        "  <th>formula</th>\n",
        "  <th>Sinonimos</th>\n",
        "</tr>\n",
        "<tr>\n",
        "  <td>Desviacion</td>\n",
        "  <td>diferencia entre los valores observados y proyectados</td>\n",
        "  <td></td>\n",
        "  <td>error residual</td>\n",
        "</tr>\n",
        "<tr>\n",
        "  <td>Desviacion estandar</td>\n",
        "  <td>es la raiz cuadrada de la varianza</td>\n",
        "  <td>$$ \\sigma = \\sqrt{Varianza}\n",
        " $$</td>\n",
        " <td></td>\n",
        "</tr>\n",
        "<tr>\n",
        "  <td>Desviacion media absoluta</td>\n",
        "  <td>Media absoluta de las desviaciones de la media </td>\n",
        "  <td>$$ \\text{DMA} = \\frac{\\sum_{i=1}^{n} |x_i - \\bar{x}|}{n}\n",
        " $$</td>\n",
        " <td></td>\n",
        "</tr>\n",
        "<tr>\n",
        "  <td>varianza</td>\n",
        "  <td>Suma de cuadrados, de las desviaciones con respecto a la media al cuadrado, dividida por n-1</td>\n",
        "  <td>$$ \\sigma^2 = \\frac{\\sum_{i=1}^{n} (x_i - \\mu)^2}{n-1}\n",
        " $$</td>\n",
        "  <td>error cuadratico medio</td>\n",
        "</tr>\n",
        "<tr>\n",
        "  <td>Rango</td>\n",
        "  <td>diferencia del valor mas alto- el mas bajo</td>\n",
        "  <td>$$\\text{Rango} = \\text{Valor Máx} - \\text{Valor Mín}$$\n",
        "</td>\n",
        "  <td></td>\n",
        "</tr>\n",
        "<tr>\n",
        "  <td>Rango intercuartil</td>\n",
        "  <td>Diferencia entre el percentil 75 y el 25</td>\n",
        "  <td></td>\n",
        "  <td>IQR</td>\n",
        "</tr>\n",
        "</table>\n",
        "\n",
        "Se supone que al medir la variabilidad, las sumas de las desviaciones de la media dan 0, por eso se usa el valor absoluto\n",
        "\n",
        "\n",
        "<h2>Grados de libertad n o n-1</h2>\n",
        "Basicamente para los analistas de datos no es representativa esta pregunta pero se utiliza para hacer una estimacion sesgada (n) o no (n-1)"
      ],
      "metadata": {
        "id": "qqq0eBW3WZZe"
      }
    },
    {
      "cell_type": "code",
      "source": [
        "#calculo de medidas de dispersion\n",
        "from statsmodels.robust.scale import mad\n",
        "\n",
        "desvEst=df['Poblacion'].std()\n",
        "IQR=df['Poblacion'].quantile(0.75)-df['Poblacion'].quantile(0.25)\n",
        "madcalq=mad(df['Poblacion'])\n",
        "print(f\"desviacion estandar={desvEst}\")\n",
        "print(f\"IQR={IQR}\")\n",
        "print(f\"MAD(Desviacion absoluta mediana de la mediana)={madcalq}\")\n",
        "print(f\"cuartiles={df['Tasa de homicidios'].quantile([0.05,0.25,0.5,0.75,0.95])}\")"
      ],
      "metadata": {
        "id": "dGvGoxC_bAIo",
        "outputId": "d9b09621-7b65-46c4-e826-5cb8bc1f9277",
        "colab": {
          "base_uri": "https://localhost:8080/"
        }
      },
      "execution_count": 4,
      "outputs": [
        {
          "output_type": "stream",
          "name": "stdout",
          "text": [
            "desviacion estandar=12105745.29585633\n",
            "IQR=2958479.25\n",
            "MAD(Desviacion absoluta mediana de la mediana)=2576836.044572552\n",
            "cuartiles=0.05    2.540\n",
            "0.25    4.000\n",
            "0.50    5.150\n",
            "0.75    5.625\n",
            "0.95    5.765\n",
            "Name: Tasa de homicidios, dtype: float64\n"
          ]
        }
      ]
    },
    {
      "cell_type": "markdown",
      "source": [
        "## Exploracion de la distribucion de datos\n",
        "Explorar graficamene como se distribuyen los datos de la muestra\n",
        "\n",
        "<table>\n",
        "  <tr>\n",
        "    <th>Grafica</th>\n",
        "    <th>Descripcion</th>\n",
        "    <th>sinonimos</th>\n",
        "  </tr>\n",
        "  <tr>\n",
        "    <td>Diagrama de caja</td>\n",
        "    <td>Diagrama que muestra la distribucion de los datos en cuartiles</td>\n",
        "    <td>diagrama de bigotes</td>\n",
        "  </tr>\n",
        "  <tr>\n",
        "    <td>Tabla de frecuencias</td>\n",
        "    <td>Recuento de valores de datos numerios que caen en conjunto de intervalos(contenedores)</td>\n",
        "    <td>diagrama de bigotes</td>\n",
        "  </tr>\n",
        "  <tr>\n",
        "    <td>Histograma</td>\n",
        "    <td>Diagrama de frecuencias con intervalos en eje X y recuento en eje Y</td>\n",
        "    <td>diagrama de bigotes</td>\n",
        "  </tr>\n",
        "  <tr>\n",
        "    <td>Diagrama de densidad</td>\n",
        "    <td>Version suavizada del histograma que muestra la estimacion de la densidad</td>\n",
        "  </tr>\n",
        "</table>\n",
        "\n",
        "<h2>Diagramas de caja</h2>\n",
        "Se basan en una distribucion de la informacion por percentiles y datos atipicos en sus colas, por lo general muestran los quartiles"
      ],
      "metadata": {
        "id": "7aIcHKC2lFCP"
      }
    },
    {
      "cell_type": "code",
      "source": [
        "#diagrama de caja\n",
        "ax=(df['Poblacion']/1000000).plot.box()\n",
        "ax.set_ylabel('Poblacion(millones)')"
      ],
      "metadata": {
        "id": "cAiTvKPYrBv1",
        "outputId": "30c58e56-dc50-4a74-82cc-8054948f6e7a",
        "colab": {
          "base_uri": "https://localhost:8080/",
          "height": 447
        }
      },
      "execution_count": 5,
      "outputs": [
        {
          "output_type": "execute_result",
          "data": {
            "text/plain": [
              "Text(0, 0.5, 'Poblacion(millones)')"
            ]
          },
          "metadata": {},
          "execution_count": 5
        },
        {
          "output_type": "display_data",
          "data": {
            "text/plain": [
              "<Figure size 640x480 with 1 Axes>"
            ],
            "image/png": "[encoded data removed]"
          },
          "metadata": {}
        }
      ]
    },
    {
      "cell_type": "markdown",
      "source": [
        "<h2>Histograma o Tabla de frecuencias</h2>\n",
        "Como su nombre lo dice los histogramas o tablas de frecuencias, dividen la informacion en rangos igualmente espaciados y nos dicen cuantos valores caen en cada segmento"
      ],
      "metadata": {
        "id": "Z4deCqAmsAz4"
      }
    },
    {
      "cell_type": "code",
      "source": [
        "#segmentacion de valores\n",
        "binnedPopulation=pd.cut(df['Poblacion'],10)\n",
        "binnedPopulation.value_counts()"
      ],
      "metadata": {
        "id": "srwuGczGtHA-",
        "outputId": "1b57ee23-31ab-4ce2-d14d-75c86274b7a0",
        "colab": {
          "base_uri": "https://localhost:8080/"
        }
      },
      "execution_count": 6,
      "outputs": [
        {
          "output_type": "execute_result",
          "data": {
            "text/plain": [
              "(673687.275, 4364603.5]     4\n",
              "(4364603.5, 8018976.0]      3\n",
              "(33599583.5, 37253956.0]    1\n",
              "(8018976.0, 11673348.5]     0\n",
              "(11673348.5, 15327721.0]    0\n",
              "(15327721.0, 18982093.5]    0\n",
              "(18982093.5, 22636466.0]    0\n",
              "(22636466.0, 26290838.5]    0\n",
              "(26290838.5, 29945211.0]    0\n",
              "(29945211.0, 33599583.5]    0\n",
              "Name: Poblacion, dtype: int64"
            ]
          },
          "metadata": {},
          "execution_count": 6
        }
      ]
    },
    {
      "cell_type": "markdown",
      "source": [
        "<h2>Graficacion histograma</h2>"
      ],
      "metadata": {
        "id": "wj6h9ZsH0arJ"
      }
    },
    {
      "cell_type": "code",
      "source": [
        "import matplotlib.pyplot as plt\n",
        "\n",
        "ax = (df['Poblacion'] / 1000000).plot.hist(figsize=(4, 4))\n",
        "ax.set_xlabel('Population(millions)')\n",
        "plt.show()"
      ],
      "metadata": {
        "id": "idU-CTIU0eHV",
        "outputId": "66af5986-7093-4ad8-b12c-44a32b6378f4",
        "colab": {
          "base_uri": "https://localhost:8080/",
          "height": 388
        }
      },
      "execution_count": 7,
      "outputs": [
        {
          "output_type": "display_data",
          "data": {
            "text/plain": [
              "<Figure size 400x400 with 1 Axes>"
            ],
            "image/png": "[encoded data removed]"
          },
          "metadata": {}
        }
      ]
    },
    {
      "cell_type": "markdown",
      "source": [
        "<h2>Graficacion Tabla de frecuencia</h2>"
      ],
      "metadata": {
        "id": "Ta2CeJsg27o5"
      }
    },
    {
      "cell_type": "code",
      "source": [
        "ax=df['Tasa de homicidios'].plot.hist(density=True,xlim=[0,12],bins=range(1,12))\n",
        "df['Tasa de homicidios'].plot.density(ax=ax)\n",
        "ax.set_xlabel('Tasa de homicidios (por 100.000)')"
      ],
      "metadata": {
        "id": "YwF46xjY2_Tg",
        "outputId": "9b97bf6a-7d0f-4921-aaba-6f4787d84b3c",
        "colab": {
          "base_uri": "https://localhost:8080/",
          "height": 466
        }
      },
      "execution_count": 8,
      "outputs": [
        {
          "output_type": "execute_result",
          "data": {
            "text/plain": [
              "Text(0.5, 0, 'Tasa de homicidios (por 100.000)')"
            ]
          },
          "metadata": {},
          "execution_count": 8
        },
        {
          "output_type": "display_data",
          "data": {
            "text/plain": [
              "<Figure size 640x480 with 1 Axes>"
            ],
            "image/png": "[encoded data removed]"
          },
          "metadata": {}
        }
      ]
    },
    {
      "cell_type": "markdown",
      "source": [
        "## Exploracion de datos Discretos (Binarios y categoricos)\n",
        "\n",
        "<table>\n",
        "  <tr>\n",
        "    <th>Dato</th>\n",
        "    <th>Descripccion</th>\n",
        "  </tr>\n",
        "  <tr>\n",
        "    <td>Moda</td>\n",
        "    <td>Dato que ocurre con mas frecuencia</td>\n",
        "  </tr>\n",
        "  <tr>\n",
        "    <td>Valor Esperado</td>\n",
        "    <td>ponderacion de la probabilidad de ocurrencia de los valores</td>\n",
        "  </tr>\n",
        "  <tr>\n",
        "    <td>Graficos barras</td>\n",
        "    <td>Frecuencia o proporcion de cada categoria</td>\n",
        "  </tr>\n",
        "    <tr>\n",
        "    <td>Graficos torta</td>\n",
        "    <td>Frecuencia o proporcion de cada categoria</td>\n",
        "  </tr>\n",
        "</table>"
      ],
      "metadata": {
        "id": "mGHdAXx04cQO"
      }
    },
    {
      "cell_type": "markdown",
      "source": [
        "## Correlacion\n",
        "Relacion entre variables, tener una correlacion implica que halla un sesgo\n",
        "\n",
        "<h3>Terminos Clave</h3>\n",
        "\n",
        "<table>\n",
        "  <tr>\n",
        "    <th>Termino</th>\n",
        "    <th>Descripcion</th>\n",
        "    <th>Formula</th>\n",
        "  </tr>\n",
        "  <tr>\n",
        "    <td>Coeficiente de correlacion</td>\n",
        "    <td>Mide la asociacion entre variables desde -1/0/1</td>\n",
        "    <td>\\rho = \\frac{\\text{cov}(X, Y)}{\\sigma_X \\sigma_Y}\n",
        "</td>\n",
        "  </tr>\n",
        "  <tr>\n",
        "    <td>Matriz de correlacion</td>\n",
        "    <td>Matriz que muestra la correlacion entre filas y columnas</td>\n",
        "  </tr>\n",
        "  <tr>\n",
        "    <td>Diagrama de dispersion</td>\n",
        "    <td>duagrana que muestra la dispersion de los datos y por ende la correlacion de estos en formato grafico</td>\n",
        "  </tr>\n",
        "</table>\n"
      ],
      "metadata": {
        "id": "eUHnzKOFLzzC"
      }
    },
    {
      "cell_type": "markdown",
      "source": [
        "<h3>Coeficiente de Pearson</h3>\n",
        "\n",
        "Un coeficiente ampliamente usado en el analisis de la correlacion es el coeficiente de Pearson, que divide la multiplicacion de la desviacion media de las variables sobre por el producto de la desviacion estandar.\n",
        "\n",
        "$$ r = \\frac{\\sum_{i=1}^{n} (x_i - \\bar{x})(y_i - \\bar{y})}{\\sqrt{\\sum_{i=1}^{n} (x_i - \\bar{x})^2 \\cdot \\sum_{i=1}^{n} (y_i - \\bar{y})^2}} $$\n",
        "\n",
        "* r es el coeficiente de Pearson.\n",
        "* n es el número de juguetes o datos en tus conjuntos.\n",
        "* x_i y y_i son tus datos específicos (por ejemplo, cuánto amas un juguete y cuánto tiempo pasas jugando con él).\n",
        "*X(medio) y Y(medio) son los promedios de tus datos.\n",
        "\n",
        "Ejemplo de uso: Imagina que eres un niño que le gustan tus juguetes y juegas con ellos. El coeficiente de pearson te va a decir si tiene relacion el tiempo que juegas con los juguetes basado en cual te gusta mas.\n"
      ],
      "metadata": {
        "id": "tsW0l8QZFfjX"
      }
    },
    {
      "cell_type": "code",
      "source": [
        "from seaborn import heatmap\n",
        "import matplotlib.pyplot as plt\n",
        "matriz_correlacion=df.corr(numeric_only=True)\n",
        "plt.figure(figsize=(4,4))\n",
        "heatmap(matriz_correlacion, annot=True, cmap='coolwarm', fmt=\".2f\", linewidths=.5)\n",
        "plt.title('Matriz de Correlación')\n",
        "plt.show()"
      ],
      "metadata": {
        "id": "YY0moQXZ-l4B",
        "outputId": "c5a4cd09-dd2d-4232-83f8-3f5c515cf5cb",
        "colab": {
          "base_uri": "https://localhost:8080/",
          "height": 391
        }
      },
      "execution_count": 14,
      "outputs": [
        {
          "output_type": "display_data",
          "data": {
            "text/plain": [
              "<Figure size 400x400 with 2 Axes>"
            ],
            "image/png": "[encoded data removed]"
          },
          "metadata": {}
        }
      ]
    },
    {
      "cell_type": "markdown",
      "source": [
        "<h3>Diagramas de dispersion</h3>\n",
        "\n",
        "muestra la correlacion de las variables X y Y respecto a su variabilidad en la muestra"
      ],
      "metadata": {
        "id": "jgWMi4q4FhdK"
      }
    },
    {
      "cell_type": "code",
      "source": [
        "ax=df.plot.scatter(x='Poblacion',y='Tasa de homicidios',figsize=(4,4), marker='$\\u25EF$')\n",
        "ax.set_xlabel('Poblacion')\n",
        "ax.set_ylabel('Tasa de homicidios')\n",
        "ax.axhline(0,color='grey',lw=1)\n",
        "ax.axvline(0,color='grey',lw=1)"
      ],
      "metadata": {
        "id": "i-EPIrbpGke0",
        "outputId": "7ef20eef-f1e0-4c2a-8f01-862aab712572",
        "colab": {
          "base_uri": "https://localhost:8080/",
          "height": 406
        }
      },
      "execution_count": 20,
      "outputs": [
        {
          "output_type": "execute_result",
          "data": {
            "text/plain": [
              "<matplotlib.lines.Line2D at 0x7a468cca8580>"
            ]
          },
          "metadata": {},
          "execution_count": 20
        },
        {
          "output_type": "display_data",
          "data": {
            "text/plain": [
              "<Figure size 400x400 with 1 Axes>"
            ],
            "image/png": "[encoded data removed]"
          },
          "metadata": {}
        }
      ]
    }
  ]
}
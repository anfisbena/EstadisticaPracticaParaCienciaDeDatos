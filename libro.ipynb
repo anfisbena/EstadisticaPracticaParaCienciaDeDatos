{
  "nbformat": 4,
  "nbformat_minor": 0,
  "metadata": {
    "colab": {
      "provenance": [],
      "authorship_tag": "ABX9TyNqaPa9WTjcVwFj83zNViOA",
      "include_colab_link": true
    },
    "kernelspec": {
      "name": "python3",
      "display_name": "Python 3"
    },
    "language_info": {
      "name": "python"
    }
  },
  "cells": [
    {
      "cell_type": "markdown",
      "metadata": {
        "id": "view-in-github",
        "colab_type": "text"
      },
      "source": [
        "<a href=\"https://colab.research.google.com/github/anfisbena/EstadisticaPracticaParaCienciaDeDatos/blob/main/libro.ipynb\" target=\"_parent\"><img src=\"https://colab.research.google.com/assets/colab-badge.svg\" alt=\"Open In Colab\"/></a>"
      ]
    },
    {
      "cell_type": "code",
      "execution_count": null,
      "metadata": {
        "id": "oeqJmaR56NTZ"
      },
      "outputs": [],
      "source": []
    },
    {
      "cell_type": "markdown",
      "source": [
        "#Tipos de datos\n",
        "\n",
        "## Numericos\n",
        "<table>\n",
        "  <tr>\n",
        "    <th>Tipo Dato</th>\n",
        "    <th>Descripcion</th>\n",
        "    <th>Sinonimos</th>\n",
        "  </tr>\n",
        "  <tr>\n",
        "    <td>Continuos</td>\n",
        "    <td>numeros que pueden tomar cualquier valor en el intervalo</td>\n",
        "    <td>intervalo, flotante, numerico</td>\n",
        "  </tr>\n",
        "  <tr>\n",
        "    <td>Discretos</td>\n",
        "    <td>Numeros que solo pueden adoptar valores enteros y definidos</td>\n",
        "    <td>entero, contable</td>\n",
        "  </tr>\n",
        "</table>\n",
        "\n",
        "## Categoricos\n",
        "<table>\n",
        "  <tr>\n",
        "    <th>Tipo Dato</th>\n",
        "    <th>Descripcion</th>\n",
        "    <th>Sinonimos</th>\n",
        "  </tr>\n",
        "  <tr>\n",
        "    <td>Ordinales</td>\n",
        "    <td>Datos con un orden explicito </td>\n",
        "    <td>factor ordenado</td>\n",
        "  </tr>\n",
        "    <tr>\n",
        "    <td>Binarios</td>\n",
        "    <td>si/no, True/false, 1/0</td>\n",
        "    <td>dicotomico, logico, indicador, booleano</td>\n",
        "  </tr>\n",
        "</table>\n",
        "\n",
        "Los datos categoricos pueden ser tratados por ej:\n",
        "+ R= ordered.factor\n",
        "+ Py= (usando libreria psykit.learn) sklearn.preprocessing.OrginalEncoder\n",
        "\n",
        "# Datos rectangulares\n",
        "\n",
        "Se identifican asi los datos en dos dimensiones como las tablas, estos tienen los siguientes terminos clave\n",
        "\n",
        "<table>\n",
        "  <tr>\n",
        "    <td>Termino</td>\n",
        "    <td>Descripcion</td>\n",
        "    <td>sinonimo</td\n",
        "  </tr>\n",
        "  <tr>\n",
        "    <td>Marco de datos</td>\n",
        "    <td>Tabla</td>\n",
        "  </tr>\n",
        "  <tr>\n",
        "    <td>Caracteristica</td>\n",
        "    <td>Columna de la tabla</td>\n",
        "    <td>atributo, entrada, predictor, variable</td>\n",
        "  </tr>\n",
        "  <tr>\n",
        "    <td>registro</td>\n",
        "    <td>fila de la tabla</td>\n",
        "    <td>caso, instancia, ejemplo, observacion, patrón, muestra</td>\n",
        "  </tr>\n",
        "  <tr>\n",
        "    <td>Resultado</td>\n",
        "    <td>valor de salida del modelo</td>\n",
        "    <td>variable dependiente, respuesta, objetivo, salida</td>\n",
        "  </tr>\n",
        "</table>"
      ],
      "metadata": {
        "id": "1YMfKDz86hAV"
      }
    },
    {
      "cell_type": "code",
      "source": [],
      "metadata": {
        "id": "Um-s3zaH-Eiv"
      },
      "execution_count": null,
      "outputs": []
    }
  ]
}